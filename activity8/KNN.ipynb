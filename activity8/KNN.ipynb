{
 "cells": [
  {
   "cell_type": "code",
   "execution_count": 1,
   "metadata": {
    "collapsed": true
   },
   "outputs": [],
   "source": [
    "import numpy as np\n",
    "import matplotlib.pyplot as plt\n",
    "from matplotlib.colors import ListedColormap\n",
    "from sklearn import neighbors\n",
    "import pandas as pd\n",
    "from random import uniform\n",
    "\n",
    "import sys\n",
    "sys.path.append('../')\n",
    "from database.models import get_db_session, AccidentDBScan"
   ]
  },
  {
   "cell_type": "code",
   "execution_count": 2,
   "metadata": {
    "collapsed": false
   },
   "outputs": [
    {
     "name": "stdout",
     "output_type": "stream",
     "text": [
      "Number of accidents = 7939\n"
     ]
    }
   ],
   "source": [
    "# Obtain accidents\n",
    "session = get_db_session('sqlite:///../incidences.db')\n",
    "accidents = session.query(AccidentDBScan.longitud, \n",
    "                          AccidentDBScan.latitud,\n",
    "                          AccidentDBScan.num_cluster).all()\n",
    "\n",
    "print('Number of accidents = {}'.format(len(accidents)))"
   ]
  },
  {
   "cell_type": "code",
   "execution_count": 3,
   "metadata": {
    "collapsed": false
   },
   "outputs": [],
   "source": [
    "# Function for obtain random accidents to train KNN\n",
    "def shuffle_accidents(p, accidents):\n",
    "    train = []\n",
    "    test = []\n",
    "    for accident in accidents:\n",
    "        if uniform(0, 1) < p:\n",
    "            train.append(accident)\n",
    "        else:\n",
    "            test.append(accident)\n",
    "    return [train, test]"
   ]
  },
  {
   "cell_type": "code",
   "execution_count": 4,
   "metadata": {
    "collapsed": false
   },
   "outputs": [],
   "source": [
    "# We repeat the process of choosing the best K 60 times\n",
    "# to obtain the average number of errors\n",
    "\n",
    "train_p = 0.6\n",
    "repetitions = 60\n",
    "k_errors = [0 for x in range(repetitions)]\n",
    "\n",
    "for rep in range(repetitions):\n",
    "    train, test = shuffle_accidents(train_p, accidents)\n",
    "    lat_and_lon_train = [x[:2] for x in train]\n",
    "    lat_and_lon_test = [x[:2] for x in test]\n",
    "    zone_train = [x[2] for x in train]\n",
    "    zone_test = [x[2] for x in test]\n",
    "    for n_neighbors in range(1, repetitions):\n",
    "        clf = neighbors.KNeighborsClassifier(n_neighbors, weights='distance')\n",
    "        clf.fit(lat_and_lon_train, zone_train)\n",
    "        Z = clf.predict(lat_and_lon_test)\n",
    "        err = (zone_test != Z).sum() / len(test)\n",
    "        k_errors[n_neighbors] += err"
   ]
  },
  {
   "cell_type": "code",
   "execution_count": 14,
   "metadata": {
    "collapsed": false
   },
   "outputs": [],
   "source": [
    "errors = list(map(lambda x : x / repetitions, k_errors))"
   ]
  },
  {
   "cell_type": "code",
   "execution_count": 16,
   "metadata": {
    "collapsed": false
   },
   "outputs": [
    {
     "data": {
      "image/png": "[encoded data removed]",
      "text/plain": [
       "<matplotlib.figure.Figure at 0x7effa6c87d30>"
      ]
     },
     "metadata": {},
     "output_type": "display_data"
    }
   ],
   "source": [
    "# Plot the result\n",
    "\n",
    "plt.title('Selection of best K (distance)')\n",
    "plt.ylabel('Error')\n",
    "plt.xlabel('K')\n",
    "plt.xlim(1, repetitions)\n",
    "plt.plot(errors)\n",
    "plt.show()"
   ]
  },
  {
   "cell_type": "code",
   "execution_count": 7,
   "metadata": {
    "collapsed": false
   },
   "outputs": [
    {
     "data": {
      "text/plain": [
       "array([b'', b'\\r', b'\\x01', ..., b'\\t', b'\\t', b'\\x06'], \n",
       "      dtype='|S8')"
      ]
     },
     "execution_count": 7,
     "metadata": {},
     "output_type": "execute_result"
    }
   ],
   "source": [
    "# We choose K=2 to apply KNN to work accidents\n",
    "lat_and_lon_train = [x[:2] for x in accidents]\n",
    "zone_train = [x[2] for x in accidents]\n",
    "clf = neighbors.KNeighborsClassifier(2, weights='distance')\n",
    "clf.fit(lat_and_lon_train, zone_train)\n",
    "\n",
    "Z = clf.predict(lat_and_lon_train)"
   ]
  },
  {
   "cell_type": "code",
   "execution_count": null,
   "metadata": {
    "collapsed": true
   },
   "outputs": [],
   "source": [
    "\n",
    "\n"
   ]
  }
 ],
 "metadata": {
  "anaconda-cloud": {},
  "kernelspec": {
   "display_name": "Python [default]",
   "language": "python",
   "name": "python3"
  },
  "language_info": {
   "codemirror_mode": {
    "name": "ipython",
    "version": 3
   },
   "file_extension": ".py",
   "mimetype": "text/x-python",
   "name": "python",
   "nbconvert_exporter": "python",
   "pygments_lexer": "ipython3",
   "version": "3.5.2"
  }
 },
 "nbformat": 4,
 "nbformat_minor": 1
}
