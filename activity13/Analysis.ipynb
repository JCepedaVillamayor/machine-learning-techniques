{
 "cells": [
  {
   "cell_type": "code",
   "execution_count": 5,
   "metadata": {
    "collapsed": false
   },
   "outputs": [],
   "source": [
    "import numpy as np\n",
    "\n",
    "from sklearn import neighbors\n",
    "\n",
    "import sys\n",
    "sys.path.append('../')\n",
    "from database.models import get_db_session, AccidentDBScan, WorkZone, Incidencia"
   ]
  },
  {
   "cell_type": "code",
   "execution_count": 6,
   "metadata": {
    "collapsed": false
   },
   "outputs": [],
   "source": [
    "#Obtain workzones KNN\n",
    "session2007 = get_db_session('sqlite:///../incidencesAux.db')\n",
    "works = session2007.query(WorkZone.num_cluster).all()\n",
    "works_cluster = [i[0] for i in works]"
   ]
  },
  {
   "cell_type": "code",
   "execution_count": 7,
   "metadata": {
    "collapsed": false
   },
   "outputs": [
    {
     "ename": "NameError",
     "evalue": "name 'Incidencia' is not defined",
     "output_type": "error",
     "traceback": [
      "\u001b[0;31m---------------------------------------------------------------------------\u001b[0m",
      "\u001b[0;31mNameError\u001b[0m                                 Traceback (most recent call last)",
      "\u001b[0;32m<ipython-input-7-77252da31d14>\u001b[0m in \u001b[0;36m<module>\u001b[0;34m()\u001b[0m\n\u001b[1;32m      2\u001b[0m \u001b[0msession2006\u001b[0m \u001b[0;34m=\u001b[0m \u001b[0mget_db_session\u001b[0m\u001b[0;34m(\u001b[0m\u001b[0;34m'sqlite:///../incidences.db'\u001b[0m\u001b[0;34m)\u001b[0m\u001b[0;34m\u001b[0m\u001b[0m\n\u001b[1;32m      3\u001b[0m \u001b[0mK\u001b[0m \u001b[0;34m=\u001b[0m \u001b[0;36m2\u001b[0m\u001b[0;34m\u001b[0m\u001b[0m\n\u001b[0;32m----> 4\u001b[0;31m \u001b[0maccidents\u001b[0m \u001b[0;34m=\u001b[0m \u001b[0msession2006\u001b[0m\u001b[0;34m.\u001b[0m\u001b[0mquery\u001b[0m\u001b[0;34m(\u001b[0m\u001b[0mIncidencia\u001b[0m\u001b[0;34m)\u001b[0m\u001b[0;34m.\u001b[0m\u001b[0mfilter\u001b[0m\u001b[0;34m(\u001b[0m\u001b[0mIncidencia\u001b[0m\u001b[0;34m.\u001b[0m\u001b[0mtipo\u001b[0m \u001b[0;34m==\u001b[0m \u001b[0;34m'Accidente'\u001b[0m\u001b[0;34m)\u001b[0m\u001b[0;34m.\u001b[0m\u001b[0mall\u001b[0m\u001b[0;34m(\u001b[0m\u001b[0;34m)\u001b[0m\u001b[0;34m\u001b[0m\u001b[0m\n\u001b[0m\u001b[1;32m      5\u001b[0m db_accidents = session2006.query(AccidentDBScan.longitud, \n\u001b[1;32m      6\u001b[0m                           \u001b[0mAccidentDBScan\u001b[0m\u001b[0;34m.\u001b[0m\u001b[0mlatitud\u001b[0m\u001b[0;34m,\u001b[0m\u001b[0;34m\u001b[0m\u001b[0m\n",
      "\u001b[0;31mNameError\u001b[0m: name 'Incidencia' is not defined"
     ]
    }
   ],
   "source": [
    "# Obtain KNN of accidents\n",
    "session2006 = get_db_session('sqlite:///../incidences.db')\n",
    "K = 2\n",
    "accidents = session2006.query(Incidencia).filter(Incidencia.tipo == 'Accidente').all()\n",
    "db_accidents = session2006.query(AccidentDBScan.longitud, \n",
    "                          AccidentDBScan.latitud,\n",
    "                          AccidentDBScan.num_cluster).all()\n",
    "accident_set = [x[:2] for x in db_accidents]\n",
    "zones = [x[2] for x in db_accidents]\n",
    "lat_and_lon_works = [(inc.longitud, inc.latitud) for inc in accidents]\n",
    "clf = neighbors.KNeighborsClassifier(K, weights='distance')\n",
    "clf.fit(accident_set, zones)\n",
    "accidents_cluster = clf.predict(lat_and_lon_works)\n"
   ]
  },
  {
   "cell_type": "code",
   "execution_count": null,
   "metadata": {
    "collapsed": false
   },
   "outputs": [],
   "source": [
    "#Obtain the knn zones without roadworks\n",
    "no_coincidence = [i for i in accidents_cluster if i not in works_cluster]\n"
   ]
  },
  {
   "cell_type": "code",
   "execution_count": null,
   "metadata": {
    "collapsed": false
   },
   "outputs": [],
   "source": [
    "#Obtain the accident type in the clusters without roadworks\n",
    "types_y = []\n",
    "for index, accident in enumerate(accidents):\n",
    "    if accidents_cluster[index] in set(no_coincidence):\n",
    "        types_y.append(accident.causa)\n",
    "        \n",
    "print(set(types_y))\n",
    "cause_y = [i for i in set(types_y)]\n",
    "cause_ammount_y = [0]*len(cause_y)\n",
    "\n",
    "for acc in types_y:\n",
    "    cause_ammount_y[cause_y.index(acc)] = cause_ammount_y[cause_y.index(acc)] + 1\n",
    "    \n",
    "\n"
   ]
  },
  {
   "cell_type": "code",
   "execution_count": null,
   "metadata": {
    "collapsed": false
   },
   "outputs": [],
   "source": [
    "#Obtain the accident type in the clusters with roadworks\n",
    "types_n = []\n",
    "for index, accident in enumerate(accidents):\n",
    "    if accidents_cluster[index] not in set(no_coincidence):\n",
    "        types_n.append(accident.causa)\n",
    "        \n",
    "print(set(types_n))\n",
    "cause_n = [i for i in set(types_n)]\n",
    "cause_ammount_n = [0]*len(cause_n)\n",
    "\n",
    "for acc in types_n:\n",
    "    cause_ammount_n[cause_n.index(acc)] = cause_ammount_n[cause_n.index(acc)] + 1"
   ]
  },
  {
   "cell_type": "code",
   "execution_count": null,
   "metadata": {
    "collapsed": false
   },
   "outputs": [],
   "source": [
    "#We normalise the data\n",
    "total_y = sum(cause_ammount_y)\n",
    "total_n = sum(cause_ammount_n)\n",
    "\n",
    "for index in range(len(cause_y)):\n",
    "    cause_ammount_n[index] = cause_ammount_n[index]/total_n\n",
    "    cause_ammount_y[index] = cause_ammount_y[index]/total_y\n",
    "\n",
    "print(cause_ammount_y)\n",
    "print(cause_ammount_n)\n",
    "print('As we can see, there are way more \"vuelco\", \"tijera camión\" and \"atropello\" in the ones with roadworks')"
   ]
  },
  {
   "cell_type": "markdown",
   "metadata": {},
   "source": [
    "As we can see, there are way more \"vuelco\", \"tijera camión\" and \"atropello\" in the ones with roadworks"
   ]
  }
 ],
 "metadata": {
  "anaconda-cloud": {},
  "kernelspec": {
   "display_name": "Python [default]",
   "language": "python",
   "name": "python3"
  },
  "language_info": {
   "codemirror_mode": {
    "name": "ipython",
    "version": 3
   },
   "file_extension": ".py",
   "mimetype": "text/x-python",
   "name": "python",
   "nbconvert_exporter": "python",
   "pygments_lexer": "ipython3",
   "version": "3.5.2"
  }
 },
 "nbformat": 4,
 "nbformat_minor": 1
}
