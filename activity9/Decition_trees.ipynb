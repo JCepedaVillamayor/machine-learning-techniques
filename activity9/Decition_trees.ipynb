{
 "cells": [
  {
   "cell_type": "code",
   "execution_count": 44,
   "metadata": {
    "collapsed": true
   },
   "outputs": [],
   "source": [
    "import numpy as np\n",
    "import matplotlib.pyplot as plt\n",
    "from matplotlib.colors import ListedColormap\n",
    "from sklearn import neighbors\n",
    "import pandas as pd\n",
    "from random import uniform\n",
    "\n",
    "from sklearn.datasets import load_iris\n",
    "from sklearn import tree\n",
    "\n",
    "import sys\n",
    "sys.path.append('../')\n",
    "from database.models import get_db_session, NumericCluster, Incidencia, AccidentDBScan"
   ]
  },
  {
   "cell_type": "code",
   "execution_count": 45,
   "metadata": {
    "collapsed": false
   },
   "outputs": [],
   "source": [
    "session = get_db_session('sqlite:///../incidences.db')"
   ]
  },
  {
   "cell_type": "code",
   "execution_count": 46,
   "metadata": {
    "collapsed": true
   },
   "outputs": [],
   "source": [
    "def tf_nivel_medio(a):\n",
    "    n = 0\n",
    "    if a == \"Rojo\":\n",
    "        n = 5\n",
    "    elif a == \"Blanco\":\n",
    "        n = 1\n",
    "    else:\n",
    "        n = 10\n",
    "\n",
    "    return n\n",
    "\n",
    "def tf_carretera(a):\n",
    "    n = 0\n",
    "\n",
    "    if \"BI-\" in a:\n",
    "        n = 1\n",
    "    elif \"N-\" in a:\n",
    "        n = 2\n",
    "    else:\n",
    "        n = 3\n",
    "\n",
    "    return n\n",
    "\n",
    "def tf_causa_ppal(a):\n",
    "    n = 0\n",
    "\n",
    "    if a == \"Alcance\":\n",
    "        n = 1\n",
    "    elif a == \"Salida\":\n",
    "        n = 3\n",
    "    else :\n",
    "        n = 4\n",
    "\n",
    "    return n\n",
    "\n",
    "def get_useful_data(accident):\n",
    "    res = []\n",
    "    res.append(tf_causa_ppal(accident.causa))\n",
    "    res.append(tf_nivel_medio(accident.nivel))\n",
    "    res.append(tf_carretera(accident.carretera))\n",
    "    \n",
    "    return res"
   ]
  },
  {
   "cell_type": "code",
   "execution_count": 47,
   "metadata": {
    "collapsed": false
   },
   "outputs": [],
   "source": [
    "# Get the clusters, extract their data, obtain the causes, print the feature names\n",
    "# and the target\n",
    "accidents = session.query(Incidencia).filter(Incidencia.tipo == 'Accidente').all()\n",
    "clusters = session.query(AccidentDBScan.num_cluster).all()\n",
    "targets = [cluster[0] for cluster in clusters]\n",
    "data = [get_useful_data(accident) for accident in accidents]\n",
    "feature_names = ['Causa', 'Nivel del accidente', 'Carretera']\n",
    "target_names = [str(target) for target in targets]"
   ]
  },
  {
   "cell_type": "code",
   "execution_count": 54,
   "metadata": {
    "collapsed": false
   },
   "outputs": [
    {
     "data": {
      "text/plain": [
       "True"
      ]
     },
     "execution_count": 54,
     "metadata": {},
     "output_type": "execute_result"
    }
   ],
   "source": [
    "clf = tree.DecisionTreeClassifier()\n",
    "clf = clf.fit(data, targets)\n",
    "\n",
    "from sklearn.externals.six import StringIO  \n",
    "import pydot\n",
    "\n",
    "dot_data = StringIO() \n",
    "tree.export_graphviz(clf, out_file=dot_data,  \n",
    "                         feature_names=feature_names,  \n",
    "                         #class_names=target_names,  \n",
    "                         filled=True, rounded=True,  \n",
    "                         special_characters=True)\n",
    "\n",
    "## convert the logics into graph\n",
    "graph = pydot.graph_from_dot_data(dot_data.getvalue())  \n",
    "\n",
    "## This will plot decision tree in pdf file\n",
    "graph.write_png(path=\"iris.png\") \n"
   ]
  }
 ],
 "metadata": {
  "anaconda-cloud": {},
  "kernelspec": {
   "display_name": "Python [conda root]",
   "language": "python",
   "name": "conda-root-py"
  },
  "language_info": {
   "codemirror_mode": {
    "name": "ipython",
    "version": 2
   },
   "file_extension": ".py",
   "mimetype": "text/x-python",
   "name": "python",
   "nbconvert_exporter": "python",
   "pygments_lexer": "ipython2",
   "version": "2.7.12"
  }
 },
 "nbformat": 4,
 "nbformat_minor": 2
}
