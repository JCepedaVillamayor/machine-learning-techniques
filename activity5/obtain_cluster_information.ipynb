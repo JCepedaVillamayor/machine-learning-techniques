{
 "cells": [
  {
   "cell_type": "code",
   "execution_count": 1,
   "metadata": {
    "collapsed": false
   },
   "outputs": [],
   "source": [
    "# load models\n",
    "import sys\n",
    "sys.path.append('../')\n",
    "from database.models import Incidencia, AccidentDBScan, DBSCANCluster, get_db_session, NumericCluster\n",
    "from sqlalchemy import func"
   ]
  },
  {
   "cell_type": "code",
   "execution_count": 2,
   "metadata": {
    "collapsed": true
   },
   "outputs": [],
   "source": [
    "\n",
    "def obtain_characteristic(session, cluster, item, conditions):\n",
    "    ''' \n",
    "        This function is intended to make less effort to write code\n",
    "        It's basically a Join query between Incidencia and AccidentDBSCan models\n",
    "        where you pass the data you want to obtain, and more optional conditions.\n",
    "        \n",
    "        returns the query\n",
    "    '''\n",
    "    accidents = session.query(item).filter(\n",
    "        Incidencia.id == AccidentDBScan.foreign_accident,\n",
    "        AccidentDBScan.num_cluster == cluster)\n",
    "    for condition in conditions:\n",
    "        accidents = accidents.filter(condition)\n",
    "    return accidents"
   ]
  },
  {
   "cell_type": "code",
   "execution_count": 3,
   "metadata": {
    "collapsed": true
   },
   "outputs": [],
   "source": [
    "'''\n",
    "    Insert the value obtained from each cluster into a new table called DBSCANCluster\n",
    "    We had to use join queries to obtain the information of the incidences\n",
    "'''\n",
    "def insert_cluster_values(session):\n",
    "    clusters = session.query(AccidentDBScan.num_cluster).distinct().all()\n",
    "    for cluster in clusters:\n",
    "        n_cluster = cluster[0]\n",
    "        cl = DBSCANCluster(num_cluster=n_cluster)\n",
    "        # Obtain the number of accidents\n",
    "        cl.accidents = session.query(func.count(AccidentDBScan.id)).filter(\n",
    "            AccidentDBScan.num_cluster == n_cluster).first()[0]        \n",
    "        cl.nivel_medio = obtain_characteristic(session,\n",
    "                                               n_cluster,\n",
    "                                               func.max(Incidencia.nivel),\n",
    "                                               [Incidencia.nivel != 'unknown']).first()[0]\n",
    "        cl.causa_ppal = obtain_characteristic(session,\n",
    "                                              n_cluster,\n",
    "                                              func.max(Incidencia.causa),\n",
    "                                              [Incidencia.causa != 'unknown']).first()[0]\n",
    "        cl.carretera = obtain_characteristic(session,\n",
    "                                             n_cluster,\n",
    "                                             func.max(Incidencia.carretera),\n",
    "                                             [Incidencia.carretera != 'unknown']).first()[0]\n",
    "        query = obtain_characteristic(session,\n",
    "                                      n_cluster,\n",
    "                                      func.count(Incidencia.causa),\n",
    "                                      [Incidencia.nivel != 'unknown'])\n",
    "        query = query.filter(Incidencia.causa == cl.causa_ppal)\n",
    "        cl.na_causa = query.first()[0]\n",
    "        session.add(cl)\n",
    "    session.commit()"
   ]
  },
  {
   "cell_type": "code",
   "execution_count": 4,
   "metadata": {
    "collapsed": false
   },
   "outputs": [],
   "source": [
    "s = get_db_session('sqlite:///../incidences.db')"
   ]
  },
  {
   "cell_type": "code",
   "execution_count": 5,
   "metadata": {
    "collapsed": false
   },
   "outputs": [],
   "source": [
    "insert_cluster_values(s)"
   ]
  }
 ],
 "metadata": {
  "anaconda-cloud": {},
  "kernelspec": {
   "display_name": "Python [default]",
   "language": "python",
   "name": "python3"
  },
  "language_info": {
   "codemirror_mode": {
    "name": "ipython",
    "version": 3
   },
   "file_extension": ".py",
   "mimetype": "text/x-python",
   "name": "python",
   "nbconvert_exporter": "python",
   "pygments_lexer": "ipython3",
   "version": "3.5.2"
  }
 },
 "nbformat": 4,
 "nbformat_minor": 1
}
