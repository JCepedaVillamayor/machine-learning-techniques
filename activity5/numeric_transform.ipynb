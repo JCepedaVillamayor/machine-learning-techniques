{
 "cells": [
  {
   "cell_type": "code",
   "execution_count": 2,
   "metadata": {
    "collapsed": false
   },
   "outputs": [],
   "source": [
    "# load models\n",
    "import sys\n",
    "sys.path.append('../')\n",
    "from database.models import DBSCANCluster, NumericCluster, get_db_session\n",
    "from sqlalchemy import func"
   ]
  },
  {
   "cell_type": "code",
   "execution_count": 3,
   "metadata": {
    "collapsed": true
   },
   "outputs": [],
   "source": [
    "# Load data\n",
    "session = get_db_session('sqlite:///../incidences.db')"
   ]
  },
  {
   "cell_type": "code",
   "execution_count": 4,
   "metadata": {
    "collapsed": false
   },
   "outputs": [],
   "source": [
    "# Defining methods to transform the data\n",
    "def tf_nivel_medio(a):\n",
    "    n = 0\n",
    "    if a == \"Rojo\":\n",
    "        n = 5\n",
    "    elif a == \"Blanco\":\n",
    "        n = 1\n",
    "    else:\n",
    "        n = 10\n",
    "\n",
    "    return n\n",
    "\n",
    "def tf_causa_ppal(a):\n",
    "    n = 0\n",
    "\n",
    "    if a == \"Alcance\":\n",
    "        n = 1\n",
    "    elif a == \"Salida\":\n",
    "        n = 3\n",
    "    else :\n",
    "        n = 4\n",
    "\n",
    "    return n\n",
    "\n",
    "def tf_carretera(a):\n",
    "    n = 0\n",
    "\n",
    "    if \"BI-\" in a:\n",
    "        n = 1\n",
    "    elif \"N-\" in a:\n",
    "        n = 2\n",
    "    else:\n",
    "        n = 3\n",
    "\n",
    "    return n"
   ]
  },
  {
   "cell_type": "code",
   "execution_count": 5,
   "metadata": {
    "collapsed": true
   },
   "outputs": [],
   "source": [
    "def transform_db(session):\n",
    "    clusters = session.query(DBSCANCluster).all()\n",
    "    for cluster in clusters:\n",
    "        cln = NumericCluster(num_cluster = cluster.num_cluster)\n",
    "        cln.accidents = cluster.accidents\n",
    "        cln.nivel_medio = tf_nivel_medio(cluster.nivel_medio)\n",
    "        cln.causa_ppal = tf_causa_ppal(cluster.causa_ppal)\n",
    "        cln.carretera = tf_carretera(cluster.carretera)\n",
    "        cln.na_causa = cluster.na_causa\n",
    "        session.add(cln)  \n",
    "    session.commit()"
   ]
  },
  {
   "cell_type": "code",
   "execution_count": 6,
   "metadata": {
    "collapsed": false
   },
   "outputs": [],
   "source": [
    "s = get_db_session('sqlite:///../incidences.db')\n",
    "transform_db(s)"
   ]
  }
 ],
 "metadata": {
  "anaconda-cloud": {},
  "kernelspec": {
   "display_name": "Python [default]",
   "language": "python",
   "name": "python3"
  },
  "language_info": {
   "codemirror_mode": {
    "name": "ipython",
    "version": 3
   },
   "file_extension": ".py",
   "mimetype": "text/x-python",
   "name": "python",
   "nbconvert_exporter": "python",
   "pygments_lexer": "ipython3",
   "version": "3.5.2"
  }
 },
 "nbformat": 4,
 "nbformat_minor": 1
}
