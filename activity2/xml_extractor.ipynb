{
 "cells": [
  {
   "cell_type": "code",
   "execution_count": 1,
   "metadata": {
    "collapsed": false
   },
   "outputs": [],
   "source": [
    "# basic packages\n",
    "from os import path, remove\n",
    "from datetime import datetime\n",
    "\n",
    "# load models\n",
    "import sys\n",
    "sys.path.append('../')\n",
    "from database.models import Incidencia, get_db_session, create_db"
   ]
  },
  {
   "cell_type": "code",
   "execution_count": 2,
   "metadata": {
    "collapsed": true
   },
   "outputs": [],
   "source": [
    "def clean_data(words, data):\n",
    "    '''\n",
    "    Get an string and return a\n",
    "    string without the words passed by arguments\n",
    "    '''\n",
    "    for item in words:\n",
    "        data = data.replace(item, \"\")\n",
    "    return data"
   ]
  },
  {
   "cell_type": "code",
   "execution_count": 3,
   "metadata": {
    "collapsed": true
   },
   "outputs": [],
   "source": [
    "def load_file(file_path, coding=\"UTF-8\"):\n",
    "    '''\n",
    "    load the file given an encoding\n",
    "    '''\n",
    "    return open(file_path, encoding=coding).read()"
   ]
  },
  {
   "cell_type": "code",
   "execution_count": 4,
   "metadata": {
    "collapsed": true
   },
   "outputs": [],
   "source": [
    "def split_file(data_file, token=\"<incidenciaGeolocalizada>\", start_index=1):\n",
    "    '''\n",
    "    Split the file into tokens and returns the list starting at a given index\n",
    "    '''\n",
    "    return [line for line in data_file.split(token)][start_index:]"
   ]
  },
  {
   "cell_type": "code",
   "execution_count": 5,
   "metadata": {
    "collapsed": true
   },
   "outputs": [],
   "source": [
    "def insert_incidences_into_db(incidences, session):\n",
    "    '''\n",
    "    Get the incidence objects and insert into the db\n",
    "    '''\n",
    "    for incidence in incidences:\n",
    "        incidence_object = Incidencia()\n",
    "        set_incidence_attributes(incidence_object, incidence, session)\n",
    "\n",
    "    session.commit()"
   ]
  },
  {
   "cell_type": "code",
   "execution_count": 6,
   "metadata": {
    "collapsed": true
   },
   "outputs": [],
   "source": [
    "def set_incidence_attributes(incidence_object, incidence, session, province='BIZKAIA'):\n",
    "    '''\n",
    "    Get the incidence dict, creates the Incidence object,\n",
    "    set the Incidence attributes and add to the db\n",
    "    '''\n",
    "    if incidence['provincia'] == province:\n",
    "        for key in incidence.keys():\n",
    "            if incidence[key] is not '':\n",
    "                incidence_object.__setattr__(key, turn_to_datatype(key, incidence[key]))\n",
    "                session.add(incidence_object)"
   ]
  },
  {
   "cell_type": "code",
   "execution_count": 7,
   "metadata": {
    "collapsed": true
   },
   "outputs": [],
   "source": [
    "def turn_to_datatype(attrib, value):\n",
    "    '''\n",
    "    get the attribute name and the value, and depending of the name,\n",
    "    return the corresponding value with its corresponding type\n",
    "    '''\n",
    "    float_attrib = [\"longitud\", \"latitud\", \"pk_inicial\", \"pk_final\"]\n",
    "\n",
    "    if attrib in float_attrib:\n",
    "        return float(value)\n",
    "    elif attrib == \"fechahora_ini\":\n",
    "        return convert_to_date_time(value)\n",
    "    else:\n",
    "        return value"
   ]
  },
  {
   "cell_type": "code",
   "execution_count": 8,
   "metadata": {
    "collapsed": true
   },
   "outputs": [],
   "source": [
    "def convert_to_date_time(value):\n",
    "    '''\n",
    "    You know\n",
    "    '''\n",
    "    ret = datetime.strptime(value, \"%Y-%m-%d %H:%M:%S\")\n",
    "    return ret"
   ]
  },
  {
   "cell_type": "code",
   "execution_count": 9,
   "metadata": {
    "collapsed": true
   },
   "outputs": [],
   "source": [
    "def clean_incidence(raw_incidence):\n",
    "    '''\n",
    "    Obtain the incidences in xml and return the\n",
    "    same incidences in a dict format\n",
    "    '''\n",
    "    result = {}\n",
    "    raw_attributes = [item for item in raw_incidence.split(\"\\n\") if item != '']\n",
    "\n",
    "    for attribute in raw_attributes:\n",
    "        if \">\" in attribute:\n",
    "            key = extract_key(attribute)\n",
    "            result[key.replace(\"/\", \"\")] = get_value(key, attribute)\n",
    "    return result"
   ]
  },
  {
   "cell_type": "code",
   "execution_count": 10,
   "metadata": {
    "collapsed": true
   },
   "outputs": [],
   "source": [
    "def extract_key(attribute):\n",
    "    '''\n",
    "    obtain the key of an xml i.e.\n",
    "    <foo>Bar</foo> the key is foo\n",
    "    '''\n",
    "    return attribute[1:attribute.index(\">\")]"
   ]
  },
  {
   "cell_type": "code",
   "execution_count": 11,
   "metadata": {
    "collapsed": true
   },
   "outputs": [],
   "source": [
    "def get_value(key, attribute):\n",
    "    '''\n",
    "    obtain the value of an xml i.e.\n",
    "    <foo>Bar</foo> the value is Bar\n",
    "    '''\n",
    "    words_to_remove = [\"<{}>\".format(key), \"</{}>\".format(key)]\n",
    "    return clean_data(words_to_remove, attribute)\n"
   ]
  },
  {
   "cell_type": "code",
   "execution_count": 12,
   "metadata": {
    "collapsed": true
   },
   "outputs": [],
   "source": [
    "def extract_data(data):\n",
    "    '''\n",
    "    Obtain de data without useless words and splitted by\n",
    "    a given token, and return a list of dicts representing\n",
    "    the information\n",
    "    '''\n",
    "    result = []\n",
    "\n",
    "    for raw_incidence in data:\n",
    "        incidence_dict = clean_incidence(raw_incidence)\n",
    "        result.append(incidence_dict)\n",
    "\n",
    "    return result"
   ]
  },
  {
   "cell_type": "code",
   "execution_count": 13,
   "metadata": {
    "collapsed": true
   },
   "outputs": [],
   "source": [
    "def get_incidences_from_xml(f_path):\n",
    "    '''\n",
    "    Open the file, clean the file and insert\n",
    "    every item into the db\n",
    "    '''\n",
    "    file_r = load_file(f_path, coding=\"ISO-8859-1\")\n",
    "    words_to_remove = [\"<raiz>\", \"</raiz>\", \"</incidenciaGeolocalizada>\", \"\\t\"]\n",
    "    data_cleaned = clean_data(words_to_remove, file_r)\n",
    "    raw_incidences = split_file(data_cleaned)\n",
    "\n",
    "    incidences = extract_data(raw_incidences)\n",
    "    path_to_db = \"../incidences.db\"\n",
    "\n",
    "    if path.exists(path_to_db):\n",
    "        remove(path_to_db)\n",
    "    create_db(\"sqlite:///{}\".format(path_to_db))\n",
    "\n",
    "    session = get_db_session(\"sqlite:///{}\".format(path_to_db))\n",
    "\n",
    "    insert_incidences_into_db(incidences, session)"
   ]
  },
  {
   "cell_type": "code",
   "execution_count": 14,
   "metadata": {
    "collapsed": true
   },
   "outputs": [],
   "source": [
    "get_incidences_from_xml(\"../data/inc2006.xml\")"
   ]
  }
 ],
 "metadata": {
  "anaconda-cloud": {},
  "kernelspec": {
   "display_name": "Python [default]",
   "language": "python",
   "name": "python3"
  },
  "language_info": {
   "codemirror_mode": {
    "name": "ipython",
    "version": 3
   },
   "file_extension": ".py",
   "mimetype": "text/x-python",
   "name": "python",
   "nbconvert_exporter": "python",
   "pygments_lexer": "ipython3",
   "version": "3.5.2"
  }
 },
 "nbformat": 4,
 "nbformat_minor": 1
}
