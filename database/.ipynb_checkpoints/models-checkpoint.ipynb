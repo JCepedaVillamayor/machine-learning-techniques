{
 "cells": [
  {
   "cell_type": "code",
   "execution_count": 1,
   "metadata": {
    "collapsed": true
   },
   "outputs": [],
   "source": [
    "# Load the data\n",
    "from sqlalchemy.ext.declarative import declarative_base\n",
    "from sqlalchemy.orm import session\n",
    "from sqlalchemy import Column, Integer, String, DateTime, Float, create_engine\n",
    "from datetime import datetime"
   ]
  },
  {
   "cell_type": "code",
   "execution_count": 2,
   "metadata": {
    "collapsed": true
   },
   "outputs": [],
   "source": [
    "# Create the main sqlalchemy class\n",
    "Base = declarative_base()"
   ]
  },
  {
   "cell_type": "code",
   "execution_count": 3,
   "metadata": {
    "collapsed": true
   },
   "outputs": [],
   "source": [
    "# First Model corresponds to the incidences obtained in the database\n",
    "class Incidencia(Base):\n",
    "    __tablename__ = \"incidences\"\n",
    "\n",
    "    id = Column(Integer, primary_key=True)\n",
    "    tipo = Column(String, default=\"unknown\")\n",
    "    autonomia = Column(String, default=\"unknown\")\n",
    "    provincia = Column(String, default=\"unknown\")\n",
    "    matricula = Column(String, default=\"unknown\")\n",
    "    causa = Column(String, default=\"unknown\")\n",
    "    fechahora_ini = Column(DateTime, default=None)\n",
    "    nivel = Column(String, default=\"unknown\")\n",
    "    carretera = Column(String, default=\"unknown\")\n",
    "    pk_inicial = Column(Float, default=1)\n",
    "    pk_final = Column(Float, default=1)\n",
    "    sentido = Column(String, default=1)\n",
    "    longitud = Column(Float, default=1.0)\n",
    "    latitud = Column(Float, default=1.0)"
   ]
  },
  {
   "cell_type": "code",
   "execution_count": 4,
   "metadata": {
    "collapsed": false
   },
   "outputs": [],
   "source": [
    "class AccidentDBScan(Base):\n",
    "    __tablename__ = 'accidents-dbscan'\n",
    "    \n",
    "    id = Column(Integer, primary_key=True)\n",
    "    longitud = Column(Float, default=1.0)\n",
    "    latitud = Column(Float, default=1.0)\n",
    "    num_cluster = Column(Integer, nullable=True)\n",
    "    foreign_accident = Column(Integer, default=0)"
   ]
  },
  {
   "cell_type": "code",
   "execution_count": 5,
   "metadata": {
    "collapsed": true
   },
   "outputs": [],
   "source": [
    "class AccidentKMeans(Base):\n",
    "    __tablename__ = 'accidents-kmeans'\n",
    "    \n",
    "    id = Column(Integer, primary_key=True)\n",
    "    longitud = Column(Float, default=1.0)\n",
    "    latitud = Column(Float, default=1.0)\n",
    "    num_cluster = Column(Integer, nullable=True)\n",
    "    foreign_accident = Column(Integer, default=0)"
   ]
  },
  {
   "cell_type": "code",
   "execution_count": 6,
   "metadata": {
    "collapsed": true
   },
   "outputs": [],
   "source": [
    "class DBSCANCluster(Base):\n",
    "    __tablename__ = \"dbscan-clusters\"\n",
    "    \n",
    "    id = Column(Integer, primary_key=True)\n",
    "    num_cluster = Column(Integer, default=0)\n",
    "    accidents = Column(Integer, default=0)\n",
    "    nivel_medio = Column(String, default='unknown')\n",
    "    carretera = Column(String, default='unknown')\n",
    "    causa_ppal = Column(String, default='unknown')\n",
    "    na_causa = Column(Integer, default=0)"
   ]
  },
  {
   "cell_type": "code",
   "execution_count": 7,
   "metadata": {
    "collapsed": true
   },
   "outputs": [],
   "source": [
    "class NumericCluster(Base):\n",
    "    __tablename__ = \"numeric-clusters\"\n",
    "    \n",
    "    id = Column(Integer, primary_key=True)\n",
    "    num_cluster = Column(Integer, default=0)\n",
    "    accidents = Column(Integer, default=0)\n",
    "    nivel_medio = Column(Integer, default=0)\n",
    "    carretera = Column(Integer, default=0)\n",
    "    causa_ppal = Column(Integer, default=0)\n",
    "    na_causa = Column(Integer, default=0)"
   ]
  },
  {
   "cell_type": "code",
   "execution_count": 8,
   "metadata": {
    "collapsed": false
   },
   "outputs": [],
   "source": [
    "class HierarchicalCluster(Base):\n",
    "    __tablename__ = \"hierarchical-clusters\"\n",
    "    \n",
    "    id = Column(Integer, primary_key=True)\n",
    "    num_cluster = Column(Integer, default=0)\n",
    "    accidents = Column(Integer, default=0)\n",
    "    nivel_medio = Column(Integer, default=0)\n",
    "    carretera = Column(Integer, default=0)\n",
    "    causa_ppal = Column(Integer, default=0)\n",
    "    na_causa = Column(Integer, default=0)"
   ]
  },
  {
   "cell_type": "code",
   "execution_count": null,
   "metadata": {
    "collapsed": true
   },
   "outputs": [],
   "source": [
    "class WorkZone(Base):\n",
    "    __tablename__ = \"works\"\n",
    "    \n",
    "    id = Column(Integer, primary_key=True)\n",
    "    num_cluster = Column(Integer, default=1)\n",
    "    autonomia = Column(String, default=\"unknown\")\n",
    "    provincia = Column(String, default=\"unknown\")\n",
    "    matricula = Column(String, default=\"unknown\")\n",
    "    fechahora_ini = Column(DateTime, default=None)\n",
    "    nivel = Column(String, default=\"unknown\")\n",
    "    carretera = Column(String, default=\"unknown\")\n",
    "    pk_inicial = Column(Float, default=1)\n",
    "    pk_final = Column(Float, default=1)\n",
    "    sentido = Column(String, default=1)\n",
    "    longitud = Column(Float, default=1.0)\n",
    "    latitud = Column(Float, default=1.0)"
   ]
  },
  {
   "cell_type": "code",
   "execution_count": 9,
   "metadata": {
    "collapsed": true
   },
   "outputs": [],
   "source": [
    "# Functions to create the database and obtain the session given a path\n",
    "\n",
    "def create_db(path_to_db):\n",
    "    engine = create_engine(path_to_db)\n",
    "    Base.metadata.create_all(engine)\n",
    "\n",
    "def get_db_session(path_to_db='sqlite:///../incidences.db'):\n",
    "    engine = create_engine(path_to_db)\n",
    "    Base.metadata.bind = engine\n",
    "    DBSession = session.sessionmaker(bind=engine)\n",
    "    return DBSession()"
   ]
  }
 ],
 "metadata": {
  "anaconda-cloud": {},
  "kernelspec": {
   "display_name": "Python [default]",
   "language": "python",
   "name": "python3"
  },
  "language_info": {
   "codemirror_mode": {
    "name": "ipython",
    "version": 3
   },
   "file_extension": ".py",
   "mimetype": "text/x-python",
   "name": "python",
   "nbconvert_exporter": "python",
   "pygments_lexer": "ipython3",
   "version": "3.5.2"
  }
 },
 "nbformat": 4,
 "nbformat_minor": 1
}
