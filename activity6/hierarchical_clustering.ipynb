{
 "cells": [
  {
   "cell_type": "code",
   "execution_count": 7,
   "metadata": {
    "collapsed": false
   },
   "outputs": [],
   "source": [
    "import matplotlib.pyplot as plt\n",
    "import numpy as np\n",
    "from scipy import cluster\n",
    "from sklearn import preprocessing\n",
    "import sklearn.neighbors\n",
    "\n",
    "# load models\n",
    "import sys\n",
    "sys.path.append('../')\n",
    "from database.models import get_db_session, HierarchicalCluster\n",
    "from database.models import NumericCluster as NCluster\n",
    "from sqlalchemy import func"
   ]
  },
  {
   "cell_type": "code",
   "execution_count": 3,
   "metadata": {
    "collapsed": false
   },
   "outputs": [],
   "source": [
    "# Obtain the same attributes from the numeric clusters as in the PCA algorithm\n",
    "session = get_db_session('sqlite:///../incidences.db')\n",
    "accidents = session.query(NCluster.accidents, \n",
    "                          NCluster.nivel_medio, \n",
    "                          NCluster.carretera, \n",
    "                          NCluster.causa_ppal, \n",
    "                          NCluster.na_causa).all()"
   ]
  },
  {
   "cell_type": "code",
   "execution_count": 4,
   "metadata": {
    "collapsed": false
   },
   "outputs": [],
   "source": [
    "# Normalize the data\n",
    "min_max_scaler = preprocessing.MinMaxScaler()\n",
    "data = min_max_scaler.fit_transform(accidents)"
   ]
  },
  {
   "cell_type": "code",
   "execution_count": 5,
   "metadata": {
    "collapsed": false
   },
   "outputs": [
    {
     "name": "stdout",
     "output_type": "stream",
     "text": [
      "Average Distance\t  0.66\n"
     ]
    }
   ],
   "source": [
    "# Obtain the average distance\n",
    "dist = sklearn.neighbors.DistanceMetric.get_metric('euclidean')\n",
    "matsim = dist.pairwise(data)\n",
    "avSim = np.average(matsim)\n",
    "print(\"%s\\t%6.2f\" % ('Average Distance', avSim))"
   ]
  },
  {
   "cell_type": "code",
   "execution_count": 6,
   "metadata": {
    "collapsed": false
   },
   "outputs": [
    {
     "data": {
      "image/png": "[encoded data removed]",
      "text/plain": [
       "<matplotlib.figure.Figure at 0x7f8e29506d68>"
      ]
     },
     "metadata": {},
     "output_type": "display_data"
    },
    {
     "name": "stdout",
     "output_type": "stream",
     "text": [
      "Number of clusters 3\n"
     ]
    }
   ],
   "source": [
    "# The best results are obtained with ward method\n",
    "clusters = cluster.hierarchy.linkage(matsim, method='ward')\n",
    "cluster.hierarchy.dendrogram(clusters, color_threshold=10)\n",
    "\n",
    "# Plot the dendogram\n",
    "plt.show()\n",
    "\n",
    "# We choose a cut of 10\n",
    "cut =(10)\n",
    "\n",
    "labels = cluster.hierarchy.fcluster(clusters, cut, criterion = 'distance')\n",
    "\n",
    "print ('Number of clusters %d' % (len(set(labels))))"
   ]
  },
  {
   "cell_type": "code",
   "execution_count": 10,
   "metadata": {
    "collapsed": false
   },
   "outputs": [],
   "source": [
    "def add_hierarchical_clusters(session, labels):\n",
    "    clusters = session.query(NCluster).all()\n",
    "    for index, cluster in enumerate(clusters):\n",
    "        hier = HierarchicalCluster()\n",
    "        hier.num_cluster = labels[index]\n",
    "        hier.accidents = cluster.accidents\n",
    "        hier.nivel_medio = cluster.nivel_medio\n",
    "        hier.carretera = cluster.carretera\n",
    "        hier.causa_ppal = cluster.causa_ppal\n",
    "        hier.na_causa = cluster.na_causa\n",
    "        session.add(hier)\n",
    "    session.commit()"
   ]
  },
  {
   "cell_type": "code",
   "execution_count": 11,
   "metadata": {
    "collapsed": true
   },
   "outputs": [],
   "source": [
    "add_hierarchical_clusters(session, labels)"
   ]
  }
 ],
 "metadata": {
  "anaconda-cloud": {},
  "kernelspec": {
   "display_name": "Python [conda root]",
   "language": "python",
   "name": "conda-root-py"
  },
  "language_info": {
   "codemirror_mode": {
    "name": "ipython",
    "version": 2
   },
   "file_extension": ".py",
   "mimetype": "text/x-python",
   "name": "python",
   "nbconvert_exporter": "python",
   "pygments_lexer": "ipython2",
   "version": "2.7.12"
  }
 },
 "nbformat": 4,
 "nbformat_minor": 1
}
